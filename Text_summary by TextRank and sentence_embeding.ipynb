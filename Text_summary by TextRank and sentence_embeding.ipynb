{
 "cells": [
  {
   "cell_type": "code",
   "execution_count": 1,
   "metadata": {},
   "outputs": [],
   "source": [
    "import numpy as np\n",
    "import pandas as pd\n",
    "import jieba\n",
    "import re"
   ]
  },
  {
   "cell_type": "code",
   "execution_count": 2,
   "metadata": {},
   "outputs": [],
   "source": [
    "text = pd.read_csv('C:/Users/heyangm/Desktop/nlp_lesson/data/sqlResult_1558435.csv',encoding='gb18030')"
   ]
  },
  {
   "cell_type": "code",
   "execution_count": 3,
   "metadata": {},
   "outputs": [
    {
     "data": {
      "text/html": [
       "<div>\n",
       "<style scoped>\n",
       "    .dataframe tbody tr th:only-of-type {\n",
       "        vertical-align: middle;\n",
       "    }\n",
       "\n",
       "    .dataframe tbody tr th {\n",
       "        vertical-align: top;\n",
       "    }\n",
       "\n",
       "    .dataframe thead th {\n",
       "        text-align: right;\n",
       "    }\n",
       "</style>\n",
       "<table border=\"1\" class=\"dataframe\">\n",
       "  <thead>\n",
       "    <tr style=\"text-align: right;\">\n",
       "      <th></th>\n",
       "      <th>id</th>\n",
       "      <th>author</th>\n",
       "      <th>source</th>\n",
       "      <th>content</th>\n",
       "      <th>feature</th>\n",
       "      <th>title</th>\n",
       "      <th>url</th>\n",
       "    </tr>\n",
       "  </thead>\n",
       "  <tbody>\n",
       "    <tr>\n",
       "      <th>0</th>\n",
       "      <td>89617</td>\n",
       "      <td>NaN</td>\n",
       "      <td>快科技@http://www.kkj.cn/</td>\n",
       "      <td>此外，自本周（6月12日）起，除小米手机6等15款机型外，其余机型已暂停更新发布（含开发版/...</td>\n",
       "      <td>{\"type\":\"科技\",\"site\":\"cnbeta\",\"commentNum\":\"37\"...</td>\n",
       "      <td>小米MIUI 9首批机型曝光：共计15款</td>\n",
       "      <td>http://www.cnbeta.com/articles/tech/623597.htm</td>\n",
       "    </tr>\n",
       "    <tr>\n",
       "      <th>1</th>\n",
       "      <td>89616</td>\n",
       "      <td>NaN</td>\n",
       "      <td>快科技@http://www.kkj.cn/</td>\n",
       "      <td>骁龙835作为唯一通过Windows 10桌面平台认证的ARM处理器，高通强调，不会因为只考...</td>\n",
       "      <td>{\"type\":\"科技\",\"site\":\"cnbeta\",\"commentNum\":\"15\"...</td>\n",
       "      <td>骁龙835在Windows 10上的性能表现有望改善</td>\n",
       "      <td>http://www.cnbeta.com/articles/tech/623599.htm</td>\n",
       "    </tr>\n",
       "    <tr>\n",
       "      <th>2</th>\n",
       "      <td>89615</td>\n",
       "      <td>NaN</td>\n",
       "      <td>快科技@http://www.kkj.cn/</td>\n",
       "      <td>此前的一加3T搭载的是3400mAh电池，DashCharge快充规格为5V/4A。\\r\\n...</td>\n",
       "      <td>{\"type\":\"科技\",\"site\":\"cnbeta\",\"commentNum\":\"18\"...</td>\n",
       "      <td>一加手机5细节曝光：3300mAh、充半小时用1天</td>\n",
       "      <td>http://www.cnbeta.com/articles/tech/623601.htm</td>\n",
       "    </tr>\n",
       "    <tr>\n",
       "      <th>3</th>\n",
       "      <td>89614</td>\n",
       "      <td>NaN</td>\n",
       "      <td>新华社</td>\n",
       "      <td>这是6月18日在葡萄牙中部大佩德罗冈地区拍摄的被森林大火烧毁的汽车。新华社记者张立云摄\\r\\n</td>\n",
       "      <td>{\"type\":\"国际新闻\",\"site\":\"环球\",\"commentNum\":\"0\",\"j...</td>\n",
       "      <td>葡森林火灾造成至少62人死亡 政府宣布进入紧急状态（组图）</td>\n",
       "      <td>http://world.huanqiu.com/hot/2017-06/10866126....</td>\n",
       "    </tr>\n",
       "    <tr>\n",
       "      <th>4</th>\n",
       "      <td>89613</td>\n",
       "      <td>胡淑丽_MN7479</td>\n",
       "      <td>深圳大件事</td>\n",
       "      <td>（原标题：44岁女子跑深圳约会网友被拒，暴雨中裸身奔走……）\\r\\n@深圳交警微博称：昨日清...</td>\n",
       "      <td>{\"type\":\"新闻\",\"site\":\"网易热门\",\"commentNum\":\"978\",...</td>\n",
       "      <td>44岁女子约网友被拒暴雨中裸奔 交警为其披衣相随</td>\n",
       "      <td>http://news.163.com/17/0618/00/CN617P3Q0001875...</td>\n",
       "    </tr>\n",
       "  </tbody>\n",
       "</table>\n",
       "</div>"
      ],
      "text/plain": [
       "      id      author                  source  \\\n",
       "0  89617         NaN  快科技@http://www.kkj.cn/   \n",
       "1  89616         NaN  快科技@http://www.kkj.cn/   \n",
       "2  89615         NaN  快科技@http://www.kkj.cn/   \n",
       "3  89614         NaN                     新华社   \n",
       "4  89613  胡淑丽_MN7479                   深圳大件事   \n",
       "\n",
       "                                             content  \\\n",
       "0  此外，自本周（6月12日）起，除小米手机6等15款机型外，其余机型已暂停更新发布（含开发版/...   \n",
       "1  骁龙835作为唯一通过Windows 10桌面平台认证的ARM处理器，高通强调，不会因为只考...   \n",
       "2  此前的一加3T搭载的是3400mAh电池，DashCharge快充规格为5V/4A。\\r\\n...   \n",
       "3    这是6月18日在葡萄牙中部大佩德罗冈地区拍摄的被森林大火烧毁的汽车。新华社记者张立云摄\\r\\n   \n",
       "4  （原标题：44岁女子跑深圳约会网友被拒，暴雨中裸身奔走……）\\r\\n@深圳交警微博称：昨日清...   \n",
       "\n",
       "                                             feature  \\\n",
       "0  {\"type\":\"科技\",\"site\":\"cnbeta\",\"commentNum\":\"37\"...   \n",
       "1  {\"type\":\"科技\",\"site\":\"cnbeta\",\"commentNum\":\"15\"...   \n",
       "2  {\"type\":\"科技\",\"site\":\"cnbeta\",\"commentNum\":\"18\"...   \n",
       "3  {\"type\":\"国际新闻\",\"site\":\"环球\",\"commentNum\":\"0\",\"j...   \n",
       "4  {\"type\":\"新闻\",\"site\":\"网易热门\",\"commentNum\":\"978\",...   \n",
       "\n",
       "                           title  \\\n",
       "0           小米MIUI 9首批机型曝光：共计15款   \n",
       "1     骁龙835在Windows 10上的性能表现有望改善   \n",
       "2      一加手机5细节曝光：3300mAh、充半小时用1天   \n",
       "3  葡森林火灾造成至少62人死亡 政府宣布进入紧急状态（组图）   \n",
       "4       44岁女子约网友被拒暴雨中裸奔 交警为其披衣相随   \n",
       "\n",
       "                                                 url  \n",
       "0     http://www.cnbeta.com/articles/tech/623597.htm  \n",
       "1     http://www.cnbeta.com/articles/tech/623599.htm  \n",
       "2     http://www.cnbeta.com/articles/tech/623601.htm  \n",
       "3  http://world.huanqiu.com/hot/2017-06/10866126....  \n",
       "4  http://news.163.com/17/0618/00/CN617P3Q0001875...  "
      ]
     },
     "execution_count": 3,
     "metadata": {},
     "output_type": "execute_result"
    }
   ],
   "source": [
    "text.head()"
   ]
  },
  {
   "cell_type": "code",
   "execution_count": 4,
   "metadata": {},
   "outputs": [
    {
     "data": {
      "text/plain": [
       "'此外，自本周（6月12日）起，除小米手机6等15款机型外，其余机型已暂停更新发布（含开发版/体验版内测，稳定版暂不受影响），以确保工程师可以集中全部精力进行系统优化工作。有人猜测这也是将精力主要用到MIUI 9的研发之中。\\r\\nMIUI 8去年5月发布，距今已有一年有余，也是时候更新换代了。\\r\\n当然，关于MIUI 9的确切信息，我们还是等待官方消息。\\r\\n'"
      ]
     },
     "execution_count": 4,
     "metadata": {},
     "output_type": "execute_result"
    }
   ],
   "source": [
    "text['content'][0]"
   ]
  },
  {
   "cell_type": "code",
   "execution_count": 5,
   "metadata": {},
   "outputs": [],
   "source": [
    "def cut(text): return ' '.join(jieba.cut(text))"
   ]
  },
  {
   "cell_type": "code",
   "execution_count": 6,
   "metadata": {},
   "outputs": [],
   "source": [
    "main_content = pd.DataFrame()"
   ]
  },
  {
   "cell_type": "code",
   "execution_count": 7,
   "metadata": {},
   "outputs": [],
   "source": [
    "main_content['title'] = text['title']"
   ]
  },
  {
   "cell_type": "code",
   "execution_count": 8,
   "metadata": {},
   "outputs": [],
   "source": [
    "main_content['content'] = text['content'].fillna('')"
   ]
  },
  {
   "cell_type": "code",
   "execution_count": 9,
   "metadata": {},
   "outputs": [
    {
     "name": "stderr",
     "output_type": "stream",
     "text": [
      "Building prefix dict from the default dictionary ...\n",
      "Loading model from cache C:\\Users\\heyangm\\AppData\\Local\\Temp\\jieba.cache\n",
      "Loading model cost 0.841 seconds.\n",
      "Prefix dict has been built succesfully.\n"
     ]
    }
   ],
   "source": [
    "main_content['tokenized_content'] = main_content['content'].apply(cut)"
   ]
  },
  {
   "cell_type": "code",
   "execution_count": 10,
   "metadata": {},
   "outputs": [],
   "source": [
    "feil_path = 'C:/Users/heyangm/Desktop/nlp_lesson/data/all_corpus.txt'"
   ]
  },
  {
   "cell_type": "code",
   "execution_count": 11,
   "metadata": {},
   "outputs": [],
   "source": [
    "with open(feil_path,'w',encoding='utf-8') as f:\n",
    "    f.write(' '.join(main_content['tokenized_content'].tolist()))"
   ]
  },
  {
   "cell_type": "markdown",
   "metadata": {},
   "source": [
    "## 计算词频"
   ]
  },
  {
   "cell_type": "code",
   "execution_count": 12,
   "metadata": {},
   "outputs": [],
   "source": [
    "tokens = [token for line in main_content['tokenized_content'].tolist() for token in line.split()]"
   ]
  },
  {
   "cell_type": "code",
   "execution_count": 13,
   "metadata": {},
   "outputs": [
    {
     "data": {
      "text/plain": [
       "['此外', '，', '自', '本周', '（', '6', '月', '12', '日', '）']"
      ]
     },
     "execution_count": 13,
     "metadata": {},
     "output_type": "execute_result"
    }
   ],
   "source": [
    "tokens[:10]"
   ]
  },
  {
   "cell_type": "code",
   "execution_count": 14,
   "metadata": {},
   "outputs": [],
   "source": [
    "from collections import Counter"
   ]
  },
  {
   "cell_type": "code",
   "execution_count": 15,
   "metadata": {},
   "outputs": [],
   "source": [
    "token_counter = Counter(tokens)"
   ]
  },
  {
   "cell_type": "code",
   "execution_count": 16,
   "metadata": {},
   "outputs": [],
   "source": [
    "word_frequency = {w:counts/len(tokens) for w,counts in token_counter.items()}"
   ]
  },
  {
   "cell_type": "code",
   "execution_count": 17,
   "metadata": {},
   "outputs": [],
   "source": [
    "frequences = sorted(list(word_frequency.values()),reverse=True)"
   ]
  },
  {
   "cell_type": "code",
   "execution_count": 18,
   "metadata": {},
   "outputs": [],
   "source": [
    "X = range(len(frequences))"
   ]
  },
  {
   "cell_type": "code",
   "execution_count": 19,
   "metadata": {},
   "outputs": [],
   "source": [
    "import matplotlib.pyplot as plt"
   ]
  },
  {
   "cell_type": "code",
   "execution_count": 20,
   "metadata": {},
   "outputs": [
    {
     "data": {
      "text/plain": [
       "[<matplotlib.lines.Line2D at 0x21f13226ba8>]"
      ]
     },
     "execution_count": 20,
     "metadata": {},
     "output_type": "execute_result"
    },
    {
     "data": {
      "image/png": "[encoded data removed]",
      "text/plain": [
       "<Figure size 432x288 with 1 Axes>"
      ]
     },
     "metadata": {
      "needs_background": "light"
     },
     "output_type": "display_data"
    }
   ],
   "source": [
    "plt.plot(X[:50],frequences[:50])"
   ]
  },
  {
   "cell_type": "markdown",
   "metadata": {},
   "source": [
    "##  PageRank"
   ]
  },
  {
   "cell_type": "code",
   "execution_count": 23,
   "metadata": {},
   "outputs": [],
   "source": [
    "import networkx"
   ]
  },
  {
   "cell_type": "code",
   "execution_count": 24,
   "metadata": {},
   "outputs": [],
   "source": [
    "adj_list = [[1,3,4,7],[2,5],[6,8],[9,10,11],[4,3,12]]"
   ]
  },
  {
   "cell_type": "code",
   "execution_count": 25,
   "metadata": {},
   "outputs": [],
   "source": [
    "graph = networkx.graph.Graph()"
   ]
  },
  {
   "cell_type": "code",
   "execution_count": 26,
   "metadata": {},
   "outputs": [],
   "source": [
    "for v, e in enumerate(adj_list):\n",
    "    graph.add_edges_from([(v,to_n) for to_n in e])"
   ]
  },
  {
   "cell_type": "code",
   "execution_count": 27,
   "metadata": {},
   "outputs": [
    {
     "name": "stderr",
     "output_type": "stream",
     "text": [
      "C:\\Users\\heyangm\\Anaconda3\\lib\\site-packages\\networkx\\drawing\\nx_pylab.py:579: MatplotlibDeprecationWarning: \n",
      "The iterable function was deprecated in Matplotlib 3.1 and will be removed in 3.3. Use np.iterable instead.\n",
      "  if not cb.iterable(width):\n"
     ]
    },
    {
     "data": {
      "image/png": "[encoded data removed]",
      "text/plain": [
       "<Figure size 432x288 with 1 Axes>"
      ]
     },
     "metadata": {},
     "output_type": "display_data"
    }
   ],
   "source": [
    "networkx.draw_networkx(graph)"
   ]
  },
  {
   "cell_type": "code",
   "execution_count": 29,
   "metadata": {},
   "outputs": [],
   "source": [
    "ranking_result = networkx.pagerank(graph)"
   ]
  },
  {
   "cell_type": "code",
   "execution_count": 30,
   "metadata": {},
   "outputs": [
    {
     "data": {
      "text/plain": [
       "[(3, 0.1710153515625564),\n",
       " (0, 0.13336652554455752),\n",
       " (4, 0.12977839182517642),\n",
       " (2, 0.12045204395944241),\n",
       " (1, 0.1104052905722436),\n",
       " (6, 0.04566746654473427),\n",
       " (8, 0.04566746654473427),\n",
       " (5, 0.04281927231199835),\n",
       " (9, 0.04061089709913097),\n",
       " (10, 0.04061089709913097),\n",
       " (11, 0.04061089709913097),\n",
       " (7, 0.03987917450012485),\n",
       " (12, 0.03911632533703903)]"
      ]
     },
     "execution_count": 30,
     "metadata": {},
     "output_type": "execute_result"
    }
   ],
   "source": [
    "sorted(ranking_result.items(),key=lambda x:x[1],reverse=True)"
   ]
  },
  {
   "cell_type": "markdown",
   "metadata": {},
   "source": [
    "##  从 PageRank 到 TextRank"
   ]
  },
  {
   "cell_type": "code",
   "execution_count": 31,
   "metadata": {},
   "outputs": [],
   "source": [
    "import re"
   ]
  },
  {
   "cell_type": "code",
   "execution_count": 32,
   "metadata": {},
   "outputs": [],
   "source": [
    "def get_summarization_by_text_rank(text, sum_len = 200):\n",
    "    return get_summarization(text, text_rank, sum_len)"
   ]
  },
  {
   "cell_type": "code",
   "execution_count": 49,
   "metadata": {},
   "outputs": [],
   "source": [
    "def get_summarization(text, score_fn, sum_len=200):\n",
    "    sub_sentences = split_sentence(text)\n",
    "    ranking_sentences = score_fn(sub_sentences)\n",
    "    selecte_sen = set()\n",
    "    current_sen = ''\n",
    "    \n",
    "    for sen, _ in ranking_sentences:\n",
    "        if len(current_sen)<sum_len:\n",
    "            current_sen += sen\n",
    "            selecte_sen.add(sen)\n",
    "        else:\n",
    "            break\n",
    "            \n",
    "    summarized = []\n",
    "    for sen in sub_sentences:\n",
    "        if sen in selecte_sen:\n",
    "            summarized.append(sen)\n",
    "    return summarized"
   ]
  },
  {
   "cell_type": "code",
   "execution_count": 50,
   "metadata": {},
   "outputs": [],
   "source": [
    "def text_rank(split_sentence):\n",
    "    sentences_graph = get_sen_graph(' '.join(split_sentence))\n",
    "    ranking_sentences = networkx.pagerank(sentences_graph)\n",
    "    ranking_sentences = sorted(ranking_sentences.items(),key=lambda x:x[1],reverse=True)\n",
    "    return ranking_sentences"
   ]
  },
  {
   "cell_type": "code",
   "execution_count": 51,
   "metadata": {},
   "outputs": [],
   "source": [
    "def get_sen_graph(tokenized_text: str, window=3):\n",
    "    tokeners = tokenized_text.split()\n",
    "    keywords_graph = networkx.graph.Graph()\n",
    "    for ii,t in enumerate(tokeners):\n",
    "        word_tuples = [(tokeners[connect], t) \n",
    "                       for connect in range(ii-window, ii+window+1) \n",
    "                       if connect >= 0 and connect < len(tokeners)]\n",
    "        keywords_graph.add_edges_from(word_tuples)\n",
    "    return keywords_graph"
   ]
  },
  {
   "cell_type": "code",
   "execution_count": 129,
   "metadata": {},
   "outputs": [],
   "source": [
    "def split_sentence(sentence):\n",
    "    pattern = re.compile('[。，,.]：')\n",
    "    split = pattern.sub(' ', sentence).split()  # split sentence\n",
    "    return split"
   ]
  },
  {
   "cell_type": "code",
   "execution_count": 55,
   "metadata": {},
   "outputs": [
    {
     "data": {
      "text/plain": [
       "'（原标题：武汉警方一下子抓了808人，还都是俊男靓女！原来他们每天偷偷摸摸干这事！）\\r\\n武汉警方一下子抓了808人，还都是俊男靓女！原来他们每天偷偷摸摸干这事！\\r\\n大家还记得今年4月光谷曾发生的一件大事吗？\\r\\n当时微博和朋友圈上都传疯了，\\r\\n说是光谷国际广场大量白领被捕！\\r\\n现场手铐都不够用！\\r\\n结果经记者深入调查后发现，\\r\\n这些被抓的并不是网传的“白领”\\r\\n而是一个有282名涉案人员的诈骗团伙！\\r\\n天呐！接近300人的犯罪团伙，\\r\\n你以为这个数字已经够庞大了吗？\\r\\n错，还有让你更震惊的！！\\r\\n据武汉市公安局通报：\\r\\n6月9日，警方在武汉三镇的10处窝点内，\\r\\n抓获了808名嫌疑人！\\r\\n而且令人大跌眼镜的是，\\r\\n他们当中大多都是年青人，\\r\\n用“俊男靓女”来形容也不为过！\\r\\n年纪不大，外形不差，那么到底是犯了什么事呢？\\r\\n其实说起来，这事估计绝大多数人都碰到过！那就是网络诈骗！\\r\\n涉案电脑800余台、手机2000余部、\\r\\n银行卡3000余张....\\r\\n因为涉及的账户太多，\\r\\n涉案金额目前还没统计出来。\\r\\n这是全国涉案人数最多的一起特大网络诈骗案！\\r\\n这些惊人的数字背后，究竟藏着什么样的秘密？警方把他们一锅端了！\\r\\n今年4月，武汉警方获悉在塔子湖地区有电信网络诈骗活动，经过2个多月的秘密侦查，发现了一个特大网络诈骗犯罪团伙。\\r\\n原来该团伙利用非法互联网金融平台，实施推荐股票、炒期货等诈骗，其10处窝点散布在江岸、洪山、东湖高新、硚口、江汉等5个区的写字楼内，涉案人员多达800余名！\\r\\n6月9日上午，武汉警方组织了1000余名警力，分成14个抓捕组，同时对首脑分子和10处窝点实施了突击抓捕行动！\\r\\n目前，警方已依法刑事拘留411人，对45人取保候审。该案还在进一步调查中。\\r\\n他们是如何进行诈骗的？\\r\\n人数众多的这个诈骗组织是怎么样进行人员分工？又是如何一步步引受害人上钩的呢？\\r\\n2015年以来，该犯罪团伙以投资组建的某集团公司为总部，旗下成立多家分公司、子公司，设立人事部、财务部、行政部等机构部门，分为经理、分析师、业务小组长、业务员等组织层级。\\r\\n在网上发布招聘信息招揽、培训业务员\\r\\n依托虚构的互联网金融平台，通过业务员散布“有内幕消息”等虚假信息，引诱受害人加入专门的QQ群、微信群。\\r\\n再由所谓的“证券公司资深分析师”和“经理”逐个联系受害人，引诱受害人交易股票、期货、贵金属、外汇等金融产品，\\r\\n受害人若获利则按“五五”、“六四”分成，\\r\\n若亏损则拉入“黑名单”不再联系。\\r\\n网友热评\\r\\n李晓猫不吃鱼：在人信汇写字楼面试过一个这种工作，一听不对劲就撤了，说不适合我，我嘴巴笨\\r\\n习惯就好33xxzz：八百多人？可能相当部分人都不大清楚自己到底是啥性质工作吧？\\r\\n刑法守望者：\\r\\n要警惕了，普法：各种工作都要预防法律风险，要做个明白人，不是什么钱都可以拿，尤其是从事金融、保险、银行、财务的人员，不小心就触犯刑法……\\r\\n童颜永在--心理医生：盘在写字楼内的诈骗公司，以高薪招聘业务人员为诱饵，实行诈骗的顽疾，终于被揣掉了。\\r\\n你的渔船：联系一下自己的朋友，看有多少个被抓了\\r\\nThe-former-degrees：\\r\\n招聘平台和销售会上百分之八十就是这种工作。从源头抓起，防止更多人受伤。\\r\\n宇宇家的小仙女：恐怖 进了一个星期发现不太对劲 这尼玛是让我骗人啊 ?赶紧自己跑路了\\r\\nz_路漫漫：\\r\\n我做过， ?后来听说公司跑路了\\r\\n睡不饱怎么办啊小铭大：我都面试过这种工作，，还培训了几天，，话术一看就的套路骗，，果断闪人，，这种公司太多了，，\\r\\n遗忘的金叶子：碰到这样的骗子找我们做视频，最后被我打电话骂了一顿！\\r\\na一元复始c：\\r\\n还有那些天天电话骚扰别人信贷的、卖房的、卖邮票的、发票的社会生活中一不留神就会被坑，所以活着需要理智\\r\\n笑看世间丑2448337651：这是在路上发骗广告搞高利贷的那些互联网金融公司吗？\\r\\n未来温暖的时光属于自己：金融港，街道口都是这些……好多同学刚刚毕业都去做过，都是网上投简历，这些公司就猛联系你，其实好多都不知道这是骗人的吧\\r\\n有强迫症的天蝎座怪咖：吓到我了\\r\\n冉冉的彗星是个宝：早上还接到说做期货\\r\\n霖心金鱼And张蒙：\\r\\n都不敢去找工作了\\r\\n蒋妈妈1\\r\\n5：刚回到武汉，准备找份工作，看网上好多这种招聘的，感觉像骗人的，都不看的\\r\\n看了网友的评论，\\r\\n小编只有一个感觉：\\r\\n找工作时一定要擦亮双眼\\r\\n不要因为一时疏忽，\\r\\n而给自己的生活抹上污点！\\r\\n俗话说，知己知彼百战不殆\\r\\n弄清网络诈骗的常见手法?\\r\\n才能避免上当受骗\\r\\n下面就为大家奉上防骗攻略\\r\\n遇到诈骗只需见招拆招！\\r\\n网络防骗攻略\\r\\n电信网络诈骗犯罪往往表现为“六大陷阱”：\\r\\n1.物美价廉的网购陷阱\\r\\n2.推销产品的便利陷阱\\r\\n3.异性交友的情感陷阱\\r\\n4.中奖信息的惊喜陷阱\\r\\n5.冒充国家工作人员的恐吓陷阱\\r\\n6.钓鱼网站和网上银行的迷惑陷阱\\r\\n下面是网络诈骗中比较常见的几种类型，一起学习如何防范，让骗子无处遁形！\\r\\n1虚假红包诈骗\\r\\n临近节日时，各大电商平台会以派发红包的形式，为促销活动预热。有不法分子趁机在微信朋友圈、微信群等平台中，派发虚假红包，诱骗大家点击，套取个人信息，或传播木马病毒，盗取银行账号。\\r\\n识骗方法：慎点此类红包领取链接，如果不小心点击，应第一时间关闭手机网络，修改网银、支付宝等重要账户密码，并通过安全软件查杀木马病毒。\\r\\n2二维码诈骗\\r\\n抢购高峰期，网页打开慢，网银交易出现比较迟钝现象。有不法分子会冒充客服或店主，以单子出现“调单”“卡单”等说法为幌子，故意说没有收到款项欺诈消费者，取得信任后要求消费者以其他办法进行转账。\\r\\n识骗方法：消费者要注意，调单、卡单、激活订单等多为诈骗术语，见此类词语基本可以断定对方是骗子。没有收到款项这样的问题，是不会在东京、天猫这样的大型网络购物平台出现的。\\r\\n3钓鱼网站诈骗\\r\\n节假日期间，公众的购物热情高涨，假冒正规电商官方网站、在线支付平台等的钓鱼网站活动频繁。消费者在忙于浏览各色商品页面时，往往容易忽略链接的安全性，从而误入诈骗分子发来的虚假钓鱼网站。\\r\\n识骗方法：对陌生人发来的商品链接要提高警惕，谨慎打开。如遇网络诈骗应第一时间向属地公安机关报案，并向举报中心举报。\\r\\n4虚假客服诈骗\\r\\n抢购高峰期，网页打开慢，网银交易出现比较迟钝现象。有不法分子会冒充客服或店主，以单子出现“调单”“卡单”等说法为幌子，故意说没有收到款项欺诈消费者，取得信任后要求消费者以其他办法进行转账。\\r\\n识骗方法：消费者要注意，调单、卡单、激活订单等多为诈骗术语，见此类词语基本可以断定对方是骗子。没有收到款项这样的问题，是不会在东京、天猫这样的大型网络购物平台出现的。\\r\\n5预购诈骗\\r\\n还有不法分子会以“提前购”、“预售”为诱饵向用户发送木马链接。除了网购链接被植入木马、钓鱼网站，还有不法分子会在“预售”活动上做文章，骗取买家“定金”。\\r\\n识骗方法：慎点不明链接，有关购物短信也不要轻信，同时也请给手机装上杀毒软件，提供安全的上网环境。\\r\\n6中奖诈骗\\r\\n购物过后，很多人会陆陆续续收到一些商家的中奖信息，切记不要随意拨打中奖信息提供的电话号码或点击发来的网站链接地址，很可能会让手机或电脑感染上木马病毒。\\r\\n识骗方法：收到中奖信息后留心一下，看一看你所购买的产品中有没有这家的产品，然后最好能在天猫店里直接和卖家联系确认消息。\\r\\n7朋友圈诈骗\\r\\n由于缺少第三方监管平台，不法分子会在朋友圈发布虚假低价购物信息，骗取消费者汇款购买。\\r\\n识骗方法：朋友圈里的销售行为，存在取证难，查处难的问题。因此建议大家在朋友圈买东西时，尽可能选择正规第三方支付平台进行支付，避免直接支付，以确保安全。\\r\\n8快递诈骗\\r\\n不法分子会从非法渠道获得客户信息，制作假的快递单，随后冒充快递员提前联系受骗者，把虚假货品送到消费者手中，骗取钱财。\\r\\n识骗方法：签收包裹前，务必按官方的信息核实对方身份，并确认是否是自己的包裹。在取货之后；一定记得把自己的个人信息从包裹上完全抹去；避免个人信息泄露。\\r\\n9退款诈骗\\r\\n不法分子常以“退款”或“退货”为由假扮网店客服，要求消费者点击其提供的“钓鱼网站”链接，盗取持卡人的银行密码及动态验证码。\\r\\n识骗方法：如果接到网上购物退款的电话或短信等信息，一定要谨慎对待，切莫泄露银行卡账号、户名，动态验证码等个人信息。\\r\\n同时，提醒大家：保护好自己账户信息，遇到情况一定及时报警。\\r\\n武汉破特大网络诈骗案抓808人:以\"内幕消息\"骗人\\r\\n6月12日，武汉市公安局向澎湃新闻通报，该局破获一起特大网络诈骗案。抓获包括卢某、熊某等8名首脑分子在内的涉案人员808名，查扣涉案电脑800余台、手机2000余部、银行卡3000余张。据悉，这是全国打击利用非法互联网金融平台实施诈骗犯罪中，查获涉案人数最多的一起案件。\\r\\n'"
      ]
     },
     "execution_count": 55,
     "metadata": {},
     "output_type": "execute_result"
    }
   ],
   "source": [
    "main_content.iloc[8]['content']  # 获取文章"
   ]
  },
  {
   "cell_type": "code",
   "execution_count": 56,
   "metadata": {},
   "outputs": [
    {
     "data": {
      "text/plain": [
       "'当时微博和朋友圈上都传疯了， 抢购高峰期，网页打开慢，网银交易出现比较迟钝现象。有不法分子会冒充客服或店主，以单子出现“调单”“卡单”等说法为幌子，故意说没有收到款项欺诈消费者，取得信任后要求消费者以其他办法进行转账。 识骗方法：消费者要注意，调单、卡单、激活订单等多为诈骗术语，见此类词语基本可以断定对方是骗子。没有收到款项这样的问题，是不会在东京、天猫这样的大型网络购物平台出现的。 抢购高峰期，网页打开慢，网银交易出现比较迟钝现象。有不法分子会冒充客服或店主，以单子出现“调单”“卡单”等说法为幌子，故意说没有收到款项欺诈消费者，取得信任后要求消费者以其他办法进行转账。 识骗方法：消费者要注意，调单、卡单、激活订单等多为诈骗术语，见此类词语基本可以断定对方是骗子。没有收到款项这样的问题，是不会在东京、天猫这样的大型网络购物平台出现的。 识骗方法：如果接到网上购物退款的电话或短信等信息，一定要谨慎对待，切莫泄露银行卡账号、户名，动态验证码等个人信息。'"
      ]
     },
     "execution_count": 56,
     "metadata": {},
     "output_type": "execute_result"
    }
   ],
   "source": [
    "## 提取摘要\n",
    "' '.join(get_summarization_by_text_rank(main_content.iloc[8]['content']))"
   ]
  },
  {
   "cell_type": "code",
   "execution_count": 57,
   "metadata": {},
   "outputs": [],
   "source": [
    "import random"
   ]
  },
  {
   "cell_type": "code",
   "execution_count": 64,
   "metadata": {},
   "outputs": [],
   "source": [
    "def show_result():\n",
    "    for index in random.sample(list(range(len(main_content))), 30):\n",
    "        content = main_content.iloc[index]['content']\n",
    "        if len(content)>1000:\n",
    "            print('Original text:\\n')\n",
    "            print(content)\n",
    "            print('summarization:\\n')\n",
    "            print( ' '.join(get_summarization_by_text_rank(content)))\n",
    "            print('----------------------------------------------------------\\n')\n",
    "            print('\\n')"
   ]
  },
  {
   "cell_type": "code",
   "execution_count": 65,
   "metadata": {},
   "outputs": [
    {
     "name": "stdout",
     "output_type": "stream",
     "text": [
      "Original text:\n",
      "\n",
      "　　新华社成都5月31日电题：藏汉两支书携手种出高原“脱贫果”\\n　　新华社记者惠小勇、叶建平、魏兆阳\\n傍晚，炉霍县海拔3200多米的鲜水河谷，一排排灰白相间的大棚，在落日余晖下显得蔚为壮观。这是四川甘孜藏区第一个成规模的绿色蔬菜产业园。\\n　　34岁的藏族妇女阿佳，提着水桶正要离开大棚。“是镇上介绍我来这里工作的。前两个月每天80元，这个月涨到了100元。”\\n　　阿佳是四川甘孜藏族自治州炉霍县斯木镇若海村人。爱人因病去世后，她独自拉扯着两个10多岁的孩子，是镇上重点帮扶的困难户。\\n　　3个月前，阿佳辞掉了县城小学的“临时工”，穿上了蔬菜基地的绿色工装。与每月增收1000多元相比，变化更大的是，阿佳不再是那个只会种青稞、小麦等传统农作物的藏族妇女，而成为了一名能在高原上种植番茄、黄瓜等蔬菜水果的“职业农民”。\\n　　在这个高原藏区有机蔬菜示范基地里，像阿佳这样家庭困难的“职业农民”有20多位。基地是盛煌农业公司投资打造的，老板盛学武来自我国“蔬菜之乡”山东寿光。在老家化龙镇乐业村，老盛是担任过26年村支书的致富领头人。\\n　　年近六旬的老盛，为何要千里迢迢从齐鲁大地跑到雪域高原种植蔬菜呢？原来，老盛的儿子盛珂曾在武警部队工作，2008年驻守甘孜时，深感高原上吃不到新鲜蔬菜。2011年，老盛卸任村支书后，决定和儿子一起到藏区发展高原现代农业。\\n　　然而，老盛的基地建设，起步并不顺利——在藏区，大多数群众并不了解和熟悉在内地早已大范围推广的土地流转制度。\\n　　幸运的是，老盛遇到了交流顺畅的“同行”：已担任吉绒村村支书7年的郎吉。于是，一个藏族村支书，一个汉族“老支书”，一家一户地走，一笔一笔地算账，进行了一场“思想动员战”。\\n　　“种青稞、小麦等，每亩年收入仅300多元；流转后每亩年租金500元、保底分红100元。”郎吉说，刚开始，大家还有点不信。后来，先流转的几户人家拿到了钱，大家就开始争着流转。吉绒村共58户人家、900多亩地。短短几个月，共流转200多亩土地，涉及17户人家。\\n很快，隔壁的若海村也提出，希望公司流转他们的土地。目前，盛煌农业公司仅在斯木镇就流转了500多亩土地，建起了40个大棚。\\n　　流转土地的群众实现了增收，而根据流转协议，基地用工优先考虑村里人，村里优先安排贫困户。据统计，去年基地共支出劳务工资100多万元，吉绒村人均增收2165元。\\n　　高原光热条件好，早晚温差大，种出的蔬菜口感好、销路好。老盛领着记者走进一间大棚，里面满是红红的小番茄。“这里一年两季，一亩地能产1.2万斤，每斤在当地能卖到10元，到成都的超市要卖到18元呢！”\\n　　“基地要发展，百姓要致富，最关键还要靠党和政府！”老盛说，这几年，当地党委政府给了公司巨大的支持。周边的基础设施是浙江省和成都锦江区援建的；这几天，政府还在帮助他们打井，准备进一步扩大大棚规模；还要成立相关村子和企业的联合党支部。\\n　　老盛的基地，是四川藏区大力发展现代农牧业的一个缩影。近年，当地因地制宜重点打造绿色生态产业示范带，仅甘孜州“十三五”期间就要建设3个百公里绿色生态产业示范带，由此逐步改变藏区农牧民的生产生活方式。而现代科学技术的注入，更是让高原上“沉睡”千年的光热资源，转化成为带动群众脱贫致富的“星星之火”。（完）\n",
      "summarization:\n",
      "\n",
      "阿佳是四川甘孜藏族自治州炉霍县斯木镇若海村人。爱人因病去世后，她独自拉扯着两个10多岁的孩子，是镇上重点帮扶的困难户。\\n “种青稞、小麦等，每亩年收入仅300多元；流转后每亩年租金500元、保底分红100元。”郎吉说，刚开始，大家还有点不信。后来，先流转的几户人家拿到了钱，大家就开始争着流转。吉绒村共58户人家、900多亩地。短短几个月，共流转200多亩土地，涉及17户人家。\\n很快，隔壁的若海村也提出，希望公司流转他们的土地。目前，盛煌农业公司仅在斯木镇就流转了500多亩土地，建起了40个大棚。\\n 流转土地的群众实现了增收，而根据流转协议，基地用工优先考虑村里人，村里优先安排贫困户。据统计，去年基地共支出劳务工资100多万元，吉绒村人均增收2165元。\\n\n",
      "----------------------------------------------------------\n",
      "\n",
      "\n",
      "\n",
      "Original text:\n",
      "\n",
      "　　新华社北京５月２３日电题：抓好试点关系改革全局——学习贯彻习近平总书记在中央深改组第三十五次会议重要讲话\\n　　新华社评论员\\n　　“抓好试点对改革全局意义重大”。在中央全面深化改革领导小组第三十五次会议上，习近平总书记深刻阐述试点在改革全局中的重要作用，对如何抓好改革试点指明实践路径、提出明确要求，为各地各部门深化改革、推进改革注入了强大思想力和行动力。\\n　　试点是重要改革任务，更是重要改革方法。随着改革不断深入，其艰巨性、复杂性、系统性愈加凸显，要走出困局、打破僵局，啃下改革硬骨头，就需要通过试点探索改革的实现路径和实现形式，为面上改革提供可复制可推广的经验做法，发挥好试点对改革全局的示范、突破和带动作用。从自贸区改革试点，到国企改革试点，从司法领域改革试点，到生态领域改革试点……近年来，以习近平同志为核心的党中央聚焦重大改革任务，突出抓了一系列重大试点，深耕细作改革“试验田”，为推进全国面上改革积累了丰富经验、激发出生机活力。实践证明，试点能否迈开步子、趟出路子，直接关系改革成效。抓好试点，是改革破局开路的重要一招。\\n　　改革永远在路上，试点工作一刻也不能停顿。试点，就是改革的“前哨站”、“侦察岗”。只有坚持解放思想、大胆实践、敢闯敢试，才能多出可复制可推广的经验、做法，带动面上改革。只有突出问题导向，尽可能把问题穷尽，让矛盾充分凸显，才能真正起到压力测试作用，为摸清改革规律、降低改革风险打牢基础。如何让试点更有效、更科学，是深化改革必须破解好的重要课题。\\n　　实践是检验真理的标准，也是发现真理的途径。增强改革试点的实效性，需要在实践中处理好上与下、点与面的关系，形成推动改革的合力。一方面，改革试点要注意同中央确定的大的发展战略紧密结合起来，在遵循顶层设计的同时，尊重基层实践，多听基层和一线声音，多取得第一手材料，正确看待新事物新做法。马克思说过：“一切发展中的事物都是不完善的。”对待试点不能求全责备，而应辩证地看、发展地看，要有试错、容错的空间。只要是符合实际需要，符合发展规律，就给予支持，鼓励试、大胆改，保护好地方和部门的积极性，最大限度调动各方面推进改革的积极性、主动性、创造性。另一方面，要加大对试点的总结评估，对证明行之有效的经验做法，及时总结提炼、完善规范，在面上推广，推动试点由点及面逐次铺开，带动改革全局。\\n　　“物之不齐，物之情也。”现实情况千差万别，提高改革试点工作科学性，需要区分不同情况，分析各个改革试点内在联系，实施分类指导，加强统筹协调，把握好改革试点工作节奏。对具有基础性、支撑性的重大制度改革试点，要争取早日形成制度成果；对关联度高、互为条件的改革试点，要统筹协调推进；对领域相近、功能互补的改革试点，可以开展综合配套试点，推动系统集成；对任务进展缓慢、到期没有完成的改革试点，要提前预警、督促落实。唯有本着“一把钥匙开一把锁”的原则，运用“十个手指弹钢琴”的方法，以系统思维、精准施策实现力量聚合、经验整合，才能让试点为面上改革提供有益经验和前进动力。\\n　　改革不尚空谈，试点贵在实干。当前，全面深改已进入施工高峰期、攻坚关键期，呼唤更多改革实干家、促进派。完善工作机制，压实主体责任，主要负责同志亲力亲为抓好关键环节，就一定能抓好抓实各项改革工作，驰而不息把改革推向前进，以优异成绩迎接党的十九大胜利召开。（完）\n",
      "summarization:\n",
      "\n",
      "试点是重要改革任务，更是重要改革方法。随着改革不断深入，其艰巨性、复杂性、系统性愈加凸显，要走出困局、打破僵局，啃下改革硬骨头，就需要通过试点探索改革的实现路径和实现形式，为面上改革提供可复制可推广的经验做法，发挥好试点对改革全局的示范、突破和带动作用。从自贸区改革试点，到国企改革试点，从司法领域改革试点，到生态领域改革试点……近年来，以习近平同志为核心的党中央聚焦重大改革任务，突出抓了一系列重大试点，深耕细作改革“试验田”，为推进全国面上改革积累了丰富经验、激发出生机活力。实践证明，试点能否迈开步子、趟出路子，直接关系改革成效。抓好试点，是改革破局开路的重要一招。\\n\n",
      "----------------------------------------------------------\n",
      "\n",
      "\n",
      "\n",
      "Original text:\n",
      "\n",
      "　　两万五千英镑，在当今的英格兰足坛能干什么？能买斯通斯一根腿毛，能够支付博格巴一天的工资，但是你能想象吗？在22年前，阿森纳为博格坎普开出两万五千英镑的周薪，这个价格震惊了整个英国足坛。\r\n",
      "　　回溯到足球最开始诞生的18世纪70年代，那会儿还没有职业足球一说，人们在场上奔跑只是出于兴趣，然而很快“朴素”的足球的美好愿景被打破，兰开夏达温郡被曝光出“竟然”给他们的两名球员苏特和勒夫支付工资，这在当时被视为一桩丑闻。\r\n",
      "　　当然，因为能带来胜利，这种“小伎俩”开始变得流行，球队开始花钱雇佣优秀的球员，随后在1885年，职业球员这个概念出现了，后来球员的工资开始上涨，达到了每周3英榜的水平，联盟紧急出台了法案，强制把所有球员的工资限制在4英镑以下。\r\n",
      "　　虽然工资刹住了，但是转会费还在膨胀，1905年，桑德兰的埃尔夫转会到米德尔斯堡，花掉了后者1000英镑的转会费，而联赛也不得不上调工资帽到8英镑——不过，如果是休赛期，最高只能拿6英镑的工资。\r\n",
      "　　1928年，阿森纳签下博尔顿的大卫·杰克，第一次把转会费的水平提升到了五位数，又过了20年，一个标志性的人物出现了，吉米·格斯里，他接手成为球员工会的主席后，立刻把工资帽上调了50%——赛季12镑周薪，休赛期10镑周薪。\r\n",
      "　　1961年，是现代足球工资制度的一个有里程碑意义的年份，新的职业球员联盟主席吉米·希尔取消了工资帽，随后球员的身价如同火箭般蹿升，富勒姆的强尼·海恩斯成为第一个周薪达到三位数的球员。\r\n",
      "　　1979年，也就是17年之后，诺丁汉森林花费100万英镑购买特雷弗·弗朗西斯，再次创造了新的记录，同年，英格兰国门皮特·希顿开始拿到1200英镑的周薪。\r\n",
      "　　15年后的1994年——到这里，应该有一些球迷熟悉的名字出现了，布莱克本的克里斯-索顿第一个拿到1万英镑的周薪，而一年后，也就是1995年，阿森纳就给博格坎普开出了25000英镑周薪。\r\n",
      "　　当时的各界都被这个价格震惊了，英格兰国脚左后卫斯图尔特·皮尔斯称这是“对金钱的极大浪费。”然而他没想到的是，就在同年的12月15日，欧盟法院做出了一项重大判决，对现代足坛影响最为深远的博斯曼法案诞生，从此，球员可以以自由身转会，转会市场上的主角从俱乐部变成了球员和俱乐部共舞，军备竞赛从此一发不可收拾。\r\n",
      "　　1996年，阿兰-希勒以1500万英镑的转会费从布莱克本转会至纽卡斯尔，再随后，罗伊-基恩在2000年拿到了5万英镑的周薪，2001年，震惊英格兰足坛的索尔·坎贝尔从热刺自由转投死敌阿森纳，拿到了10万英镑的周薪。\r\n",
      "　　从100英镑每周，到10万英镑每周，仅仅过去了40年的时间。\r\n",
      "　　后来，特维斯成为现代足坛第一个拿到100万英镑月薪的球员，随后鲁尼拿到30万英镑周薪，这也是目前英超的薪水记录。不过野兽的脚步并没有停止，他来到神秘的东方继续勇刷记录，在上海申花拿着61.5万英镑的周薪，如果不是中超的工资帽制度阻拦了桑切斯、科斯塔等大牌的转会之路，或许还将勇创新高。不过，考虑到中超新政只限制转会费，或许不排除会有球员自行买断合同，或者以自由身转会——比如伤愈的伊布，如果成真，我们能否见到史上第一个周薪超过100万英镑的球员呢？\r\n",
      "　　（梓泉）\r\n",
      "\n",
      "summarization:\n",
      "\n",
      "虽然工资刹住了，但是转会费还在膨胀，1905年，桑德兰的埃尔夫转会到米德尔斯堡，花掉了后者1000英镑的转会费，而联赛也不得不上调工资帽到8英镑——不过，如果是休赛期，最高只能拿6英镑的工资。 1996年，阿兰-希勒以1500万英镑的转会费从布莱克本转会至纽卡斯尔，再随后，罗伊-基恩在2000年拿到了5万英镑的周薪，2001年，震惊英格兰足坛的索尔·坎贝尔从热刺自由转投死敌阿森纳，拿到了10万英镑的周薪。\n",
      "----------------------------------------------------------\n",
      "\n",
      "\n",
      "\n",
      "Original text:\n",
      "\n",
      "\\n\\n\\n\\n位于北京国家会议中心前的“丝路金桥”立体花坛（5月13日摄）。新华社记者侯俊摄\\n\\n\\n两千年前，古丝绸之路创造了东西方文明交流互鉴的辉煌历史。两千年后，“一带一路”倡议植根于古代丝绸之路的历史土壤，点亮的是未来世界发展的星空。它将推动跨境乃至跨大洲的融通，惠及世界大多数人口。\\n\\n\\n\\n\\n\\n\\n5月，“一带一路”国际合作高峰论坛在北京召开。两天时间里，来自100多个国家的1500多名代表为推动“一带一路”建设献计献策。\\n\\n\\n5月14日，国家主席习近平在北京出席“一带一路”国际合作高峰论坛开幕式，并发表题为《携手推进“一带一路”建设》的主旨演讲。新华社记者马占成摄\\n\\n\\n\\n\\n\\n\\n这是出席高峰论坛的代表在开幕式上。新华社记者李学仁摄\\n\\n\\n\\n\\n\\n\\n这是媒体记者在新闻中心关注开幕式现场。新华社记者才扬摄\\n\\n\\n\\n\\n\\n\\n\\n\\n\\n5月14日，中共中央政治局常委、国务院副总理张高丽在北京出席“一带一路”国际合作高峰论坛高级别全体会议并发表题为《坚持共商共建共享　加强“五通”交流合作》的致辞。新华社记者庞兴雷摄\\n\\n\\n\\n\\n\\n\\n“一带一路”国际合作高峰论坛高级别会议14日下午举行六场平行主题会议，来自国内外的1500多名代表分别聚焦“五通”和智库交流展开深入探讨，签署系列协议，达成多项共识。\\n\\n\\n\\n\\n\\n\\n\\n\\n\\n“政策沟通”平行主题会议上，联合国秘书长古特雷斯（左图）、瑞士联邦主席洛伊特哈德做主旨演讲。新华社记者吕迅摄\\n\\n\\n\\n\\n\\n\\n\\n\\n\\n“加快设施联通”平行主题会议上，欧盟委员会副主席卡泰宁（左图），美国总统特别助理、白宫国安会亚洲事务高级主任波廷杰在会上发言。新华社记者陈建力摄\\n\\n\\n\\n\\n\\n\\n\\n\\n\\n“推进贸易畅通”平行主题会议上，中国商务部部长钟山（左图）、世界贸易组织总干事阿泽维多发言。新华社记者殷刚摄\\n\\n\\n\\n\\n\\n\\n\\n\\n\\n“促进资金融通”平行主题会议上，中国人民银行行长周小川（左图）、国际货币基金组织总裁拉加德（中图）、世界银行行长金墉发言。新华社记者吴晓凌摄\\n\\n\\n\\n\\n\\n\\n\\n\\n\\n“增进民心相通”平行主题会议上，坦桑尼亚籍配音演员希尔德（左一）等在为电视剧《西游记》配音。新华社记者陈晔华摄\\n\\n\\n\\n\\n\\n\\n\\n\\n\\n“智库交流”平行主题会议上，嘉宾就开放包容互学互鉴的丝绸之路议题展开讨论。新华社记者沈伯韩摄\\n\\n\\n蓝天白云下的人民大会堂与国家大剧院。新华社记者金良快摄\\n\\n\\n\\n\\n\\n\\n\\n\\n\\n5月14日，国家主席习近平在北京人民大会堂举行宴会，欢迎出席“一带一路”国际合作高峰论坛的外方代表团团长及嘉宾。这是习近平和夫人彭丽媛同贵宾们一同步入宴会厅。新华社记者刘卫兵摄\\n\\n\\n5月14日晚，“一带一路”国际合作高峰论坛文艺演出“千年之约”在国家大剧院上演。从大唐盛世的敦煌飞天，到郑和下西洋的千帆竞发，千年的时间与空间在这里穿梭，东西方的艺术在这里融汇，人类命运共同体的礼赞响彻在国家大剧院。新华社记者庞兴雷摄\\n\\n\\n\\n\\n\\n\\n\\n\\n\\n北京奥林匹克公园地区夜景（5月14日摄）。新华社记者王建华摄\\n\\n\\n\\n\\n\\n\\n怀柔山水间，初夏的雁栖湖绿意盎然，鲜花盛开。\\n\\n\\n\\n\\n\\n\\n\\n\\n\\n鸟瞰雁栖湖。新华社记者李鑫摄\\n\\n\\n\\n\\n\\n\\n5月15日，“一带一路”国际合作高峰论坛在北京雁栖湖国际会议中心举行圆桌峰会，国家主席习近平主持会议并致辞。\\n\\n\\n\\n\\n\\n\\n这是习近平敲下木槌，宣布圆桌峰会开幕。新华社记者马占成摄\\n\\n\\n\\n\\n\\n\\n\\n\\n\\n这是圆桌峰会会场。新华社记者马占成摄\\n\\n\\n\\n\\n\\n\\n这是第一阶段会议结束后，习近平同与会领导人和国际组织负责人步出雁栖湖国际会议中心。新华社记者饶爱民摄\\n\\n\\n\\n\\n\\n\\n\\n\\n\\n圆桌峰会闭幕后，习近平会见中外记者，介绍“一带一路”国际合作高峰论坛会议情况和主要成果。这是习近平步入记者会现场。新华社记者李涛摄\\n\\n\\n风和日丽，轻云流苏。5月15日，国家主席习近平夫人彭丽媛邀请出席“一带一路”国际合作高峰论坛的外方团长配偶参观世界文化遗产——故宫博物院。\\n\\n\\n\\n\\n\\n\\n这是彭丽媛同来宾们在太和殿前合影留念。新华社记者谢环驰摄\\n\\n\\n玉带连四海，丝路贯千年。人们期待“一带一路”这一中国倡议更好地造福世界人民，成就一带锦绣、一路辉煌。\\n\\n\\n\\n\\n\\n\\n位于北京首都国际机场附近的“合作共赢”立体花坛。新华社记者陈晔华摄\\n\\n\\n“一带一路”，根植历史，面向未来。\\n\\n\\n“一带一路”，源自中国，属于世界。\\n\\n\\n编辑丨丁玫尹栋逊\\n\\n\\n\\n\\n\n",
      "summarization:\n",
      "\n",
      "\\n\\n\\n\\n位于北京国家会议中心前的“丝路金桥”立体花坛（5月13日摄）。新华社记者侯俊摄\\n\\n\\n两千年前，古丝绸之路创造了东西方文明交流互鉴的辉煌历史。两千年后，“一带一路”倡议植根于古代丝绸之路的历史土壤，点亮的是未来世界发展的星空。它将推动跨境乃至跨大洲的融通，惠及世界大多数人口。\\n\\n\\n\\n\\n\\n\\n5月，“一带一路”国际合作高峰论坛在北京召开。两天时间里，来自100多个国家的1500多名代表为推动“一带一路”建设献计献策。\\n\\n\\n5月14日，国家主席习近平在北京出席“一带一路”国际合作高峰论坛开幕式，并发表题为《携手推进“一带一路”建设》的主旨演讲。新华社记者马占成摄\\n\\n\\n\\n\\n\\n\\n这是出席高峰论坛的代表在开幕式上。新华社记者李学仁摄\\n\\n\\n\\n\\n\\n\\n这是媒体记者在新闻中心关注开幕式现场。新华社记者才扬摄\\n\\n\\n\\n\\n\\n\\n\\n\\n\\n5月14日，中共中央政治局常委、国务院副总理张高丽在北京出席“一带一路”国际合作高峰论坛高级别全体会议并发表题为《坚持共商共建共享\n",
      "----------------------------------------------------------\n",
      "\n",
      "\n",
      "\n",
      "Original text:\n",
      "\n",
      "　　兆易创新是国内存储器芯片设计龙头，公司董秘李红表示，在国家大力扶持集成电路产业及芯片进口替代加快的趋势下，集成电路行业迎来一轮蓬勃发展期，兆易创新将充分受益于行业景气周期。公司在原有NOR Flash市场优势的基础上，增添了NAND和MCU等新的成长点，并将通过收购北京矽成完善公司存储器版图。\r\n",
      "　　进口替代空间大\r\n",
      "　　兆易创新是中国内地最大的代码型闪存芯片设计企业，也是最大的串行NOR Flash设计企业。公司在全球NOR Flash的市场占有率为7%。2013年，公司通用型MCU芯片样品成功投向市场，2014年、2015年MCU销售同比增速分别高达930%、748%。\r\n",
      "　　兆易公司高管介绍，公司产品主要包括两大系列三个产品线，分别为闪存芯片和微控制器芯片。闪存芯片主要是NOR Flash和NAND Flash两类。公司分别于2007年、2011年、2013年开始研发NOR Flash、NAND Flash和MCU产品。产品广泛应用于手持移动终端、消费类电子产品、个人电脑等领域。\r\n",
      "　　在NOR Flash方面，由于三星、美光等全球闪存芯片巨头逐步淡出NOR Flash芯片市场，这为中国芯片设计企业带来了历史性的发展机遇。公司抓住发展机遇，全球市占率从2012年的3%提升到2015年的7%，成为本土最大的NOR Flash芯片设计企业。\r\n",
      "　　“NOR Flash在手机等新行业的应用，令市场规模得以扩大。由于国际巨头纷纷退出中低端NOR Flash市场，公司充分受益于NOR Flash市场本轮涨价潮。”兆易公司高管介绍。\r\n",
      "　　以NOR闪存业务为基础，兆易创新积极向NAND闪存及基于ARM内核的32位微控制器芯片等蓝海领域扩张。NAND Flash市场虽然处于三星、东芝、海力士、美光四寡头垄断阶段，但公司通过差异化竞争，在串行NAND Flash以及小容量并行NAND、MCP等产品领域取得一定市场份额。\r\n",
      "　　在MCU方面，公司根据物联网应用和车联网需求，推出基于ARM Cortex-M系列32位通用MCU产品。目前瑞萨、NXP、TI、ST等海外大厂在国际市场占据主导地位，公司则在部分细分领域获得较多机会，持续推出高性能、超低功耗MCU产品。2016年公司MCU产品销售收入达1.97亿元，同比增长55.20%，发展势头迅猛。\r\n",
      "　　据介绍，国内市场存在2000亿美元的芯片进口替代空间。政策扶持之下，国内芯片公司获得良好的发展环境。智能硬件、工业4.0、智慧家庭等物联网市场快速发展，对存储器、MCU、通讯、传感器等芯片的需求呈爆发式增长。\r\n",
      "　　招商证券分析师认为，兆易创新将长期受益于国家对半导体产业的扶持和产业向中国内地市场转移的趋势。制程升级和产品成本下降，推动公司毛利率持续提升，将巩固公司NOR Flash的优势，并增添NAND和MCU等新成长点。\r\n",
      "\n",
      "summarization:\n",
      "\n",
      "兆易创新是中国内地最大的代码型闪存芯片设计企业，也是最大的串行NOR Flash设计企业。公司在全球NOR 在MCU方面，公司根据物联网应用和车联网需求，推出基于ARM Cortex-M系列32位通用MCU产品。目前瑞萨、NXP、TI、ST等海外大厂在国际市场占据主导地位，公司则在部分细分领域获得较多机会，持续推出高性能、超低功耗MCU产品。2016年公司MCU产品销售收入达1.97亿元，同比增长55.20%，发展势头迅猛。\n",
      "----------------------------------------------------------\n",
      "\n",
      "\n",
      "\n",
      "Original text:\n",
      "\n",
      "\\n\\n　　卡塔尔。（地图来源：国家测绘地理信息局网站）\\n新华社北京6月5日电（记者杨舒怡）沙特阿拉伯、阿拉伯联合酋长国、埃及、巴林5日宣布与卡塔尔断交，指责卡塔尔支持恐怖主义。\\n当天，沙特领导的多国打击也门胡塞武装军事行动宣布，停止让卡塔尔继续参与这一军事行动。\\n【宣布断交】\\n5日上午，沙特、阿联酋、埃及、巴林分别宣布与卡塔尔断交，并将切断与卡塔尔的海路和空路交通。\\n沙特通讯社当天援引沙特官员的话报道，沙特决定切断与邻国卡塔尔的外交领事关系，并封闭两国间的全部陆路、海路和空路交通。\\n沙特在声明中说，由于“卡塔尔当局多年来屡犯不止”，沙特认为有必要“保护本国国家安全免受恐怖主义和极端主义威胁”。\\n\\n　　卡塔尔埃米尔谢赫塔米姆·本·哈马德·阿勒萨尼。（新华/美联）\\n阿联酋通讯社报道，阿联酋5日宣布与卡塔尔断交，限令卡塔尔外交人员48小时内离境。阿联酋指责卡塔尔“支持、资助和接受恐怖分子、极端分子和某些组织”。\\n埃及外交部5日指责卡塔尔支持穆斯林兄弟会等“恐怖组织”，宣布与卡塔尔断交，并表示埃及机场、港口将不再对卡塔尔飞机和船只开放。\\n巴林在宣布与卡塔尔断交的声明中表示，卡塔尔“插手巴林事务，动摇巴林的安全与稳定”。\\n2014年9月，也门胡塞武装夺取首都萨那，后又占领南部地区，迫使总统阿卜杜拉布·曼苏尔·哈迪前往沙特避难。2015年3月，沙特、阿联酋等国针对胡塞武装发起代号为“果断风暴”的军事行动，卡塔尔也参与该行动至今。\\n5日，这一沙特领导的多国军事行动宣布，由于卡塔尔“支持恐怖主义，以及支持也门境内恐怖组织，包括‘基地’组织、‘伊斯兰国’以及也门反政府武装”，不再让卡塔尔继续参与这一军事行动。\\n卡塔尔官方暂未就断交事件作出回应。\\n【矛盾升级】\\n\\n　　沙特国王萨勒曼（前右）与卡塔尔埃米尔谢赫塔米姆（前左）。（新华/路透）\\n观察人士表示，卡塔尔与沙特关系恶化早有端倪，过去两周双方“口水仗”升级便已引发关注。\\n据悉，沙特、阿联酋、埃及、巴林均已于5月下旬封杀卡塔尔半岛电视台，以及其他卡塔尔电视频道，还宣布召回驻卡塔尔大使。\\n美国总统唐纳德·特朗普5月下旬进行上任以来的首次出访，目的地是中东和欧洲。在沙特首都利雅得，特朗普与中东多国首脑会晤，其中卡塔尔埃米尔谢赫塔米姆·本·哈马德·阿勒萨尼也参与会谈。\\n据《亚洲时报》报道，美国、沙特等国在利雅得商定，继续在政治和经济上孤立伊朗，并着手对付被埃及、沙特、阿联酋等国列入“黑名单”的穆兄会。\\n此前，美国国防部长詹姆斯·马蒂斯曾警告卡塔尔，继续与穆兄会保持友谊恐怕会付出高昂代价。但卡塔尔方面并未理会，仍然给予穆兄会特别待遇。此外，伊朗总统哈桑·鲁哈尼5月20日赢得连任后，卡塔尔埃米尔谢赫塔米姆5月27日打电话给鲁哈尼表达祝贺。\\n\\n　　5月21日，沙特首都利雅得，美国总统特朗普（右）与卡塔尔埃米尔谢赫塔米姆举行会谈。（新华/法新）\\n卡塔尔方面对利雅得会谈结果感到不满。会谈结束两天后，一则视频出现在卡塔尔国家电视台网站以及卡塔尔通讯社网站上，引发轩然大波。\\n谢赫塔米姆在视频中说，伊朗是不容忽视的地区稳定因素。“就因为某些国家宣布穆兄会是恐怖组织，或他们无法忍受哈马斯或黎巴嫩真主党之类的抵抗，就指责我们支持恐怖主义，他们无权这样做”。\\n视频中，谢赫塔米姆还把矛头暗指沙特，“真正的危险在于某些国家的做法，他们孳生恐怖主义”。\\n不过，这则视频随后被删除。卡塔尔政府否认谢赫塔米姆发表讲话，声称网站遭到黑客攻击。沙特等国则反应强烈，纷纷指责卡塔尔政府以及受到卡塔尔政府支持的半岛电视台。\\n\n",
      "summarization:\n",
      "\n",
      "卡塔尔。（地图来源：国家测绘地理信息局网站）\\n新华社北京6月5日电（记者杨舒怡）沙特阿拉伯、阿拉伯联合酋长国、埃及、巴林5日宣布与卡塔尔断交，指责卡塔尔支持恐怖主义。\\n当天，沙特领导的多国打击也门胡塞武装军事行动宣布，停止让卡塔尔继续参与这一军事行动。\\n【宣布断交】\\n5日上午，沙特、阿联酋、埃及、巴林分别宣布与卡塔尔断交，并将切断与卡塔尔的海路和空路交通。\\n沙特通讯社当天援引沙特官员的话报道，沙特决定切断与邻国卡塔尔的外交领事关系，并封闭两国间的全部陆路、海路和空路交通。\\n沙特在声明中说，由于“卡塔尔当局多年来屡犯不止”，沙特认为有必要“保护本国国家安全免受恐怖主义和极端主义威胁”。\\n\\n\n",
      "----------------------------------------------------------\n",
      "\n",
      "\n",
      "\n"
     ]
    }
   ],
   "source": [
    "show_result()"
   ]
  },
  {
   "cell_type": "markdown",
   "metadata": {},
   "source": [
    "# Sentences embedding for text_summary"
   ]
  },
  {
   "cell_type": "code",
   "execution_count": 84,
   "metadata": {},
   "outputs": [],
   "source": [
    "import gensim"
   ]
  },
  {
   "cell_type": "code",
   "execution_count": 89,
   "metadata": {},
   "outputs": [],
   "source": [
    "#加载搜狗词向量\n",
    "model = gensim.models.KeyedVectors.load_word2vec_format('E:/data/sgns.sogou.bigram', encoding='utf-8') "
   ]
  },
  {
   "cell_type": "code",
   "execution_count": 90,
   "metadata": {},
   "outputs": [],
   "source": [
    "def SIF_sentence_embedding(text,alpha=1e-4):\n",
    "    global word_frequency\n",
    "    \n",
    "    max_fre = max(word_frequency.values())\n",
    "    sen_vec = np.zeros_like(model.wv['测试'])\n",
    "    words = cut(text).split()\n",
    "    words = [w for w in words if w in model]\n",
    "    \n",
    "    for w in words:\n",
    "        fre = word_frequency.get(w,max_fre)\n",
    "        weight = alpha/(fre+alpha)\n",
    "        sen_vec += weight*model.wv[w]\n",
    "        \n",
    "    sen_vec /= len(words)\n",
    "    #skip SVD\n",
    "    return sen_vec"
   ]
  },
  {
   "cell_type": "code",
   "execution_count": 91,
   "metadata": {},
   "outputs": [],
   "source": [
    "from scipy.spatial.distance import cosine"
   ]
  },
  {
   "cell_type": "code",
   "execution_count": 92,
   "metadata": {},
   "outputs": [],
   "source": [
    "def get_corr(text,embed_fn=SIF_sentence_embedding):\n",
    "    if isinstance(text,list): text = ' '.join(text)\n",
    "        \n",
    "    sub_sentences = split_sentence(text)\n",
    "    sen_vec = embed_fn(text)\n",
    "    \n",
    "    corr_score = {}\n",
    "    \n",
    "    for sen in sub_sentences:\n",
    "        sub_sen_vec = embed_fn(sen)\n",
    "        corr_score[sen] = cosine(sen_vec,sub_sen_vec)\n",
    "        \n",
    "    return sorted(corr_score.items(),key=lambda x:x[1],reverse=True)"
   ]
  },
  {
   "cell_type": "code",
   "execution_count": 96,
   "metadata": {},
   "outputs": [],
   "source": [
    "def get_summarization_by_sen_emb(text,max_len=300):\n",
    "    return get_summarization(text,get_corr,max_len)"
   ]
  },
  {
   "cell_type": "code",
   "execution_count": 99,
   "metadata": {},
   "outputs": [
    {
     "data": {
      "text/plain": [
       "'（原标题：武汉警方一下子抓了808人，还都是俊男靓女！原来他们每天偷偷摸摸干这事！）\\r\\n武汉警方一下子抓了808人，还都是俊男靓女！原来他们每天偷偷摸摸干这事！\\r\\n大家还记得今年4月光谷曾发生的一件大事吗？\\r\\n当时微博和朋友圈上都传疯了，\\r\\n说是光谷国际广场大量白领被捕！\\r\\n现场手铐都不够用！\\r\\n结果经记者深入调查后发现，\\r\\n这些被抓的并不是网传的“白领”\\r\\n而是一个有282名涉案人员的诈骗团伙！\\r\\n天呐！接近300人的犯罪团伙，\\r\\n你以为这个数字已经够庞大了吗？\\r\\n错，还有让你更震惊的！！\\r\\n据武汉市公安局通报：\\r\\n6月9日，警方在武汉三镇的10处窝点内，\\r\\n抓获了808名嫌疑人！\\r\\n而且令人大跌眼镜的是，\\r\\n他们当中大多都是年青人，\\r\\n用“俊男靓女”来形容也不为过！\\r\\n年纪不大，外形不差，那么到底是犯了什么事呢？\\r\\n其实说起来，这事估计绝大多数人都碰到过！那就是网络诈骗！\\r\\n涉案电脑800余台、手机2000余部、\\r\\n银行卡3000余张....\\r\\n因为涉及的账户太多，\\r\\n涉案金额目前还没统计出来。\\r\\n这是全国涉案人数最多的一起特大网络诈骗案！\\r\\n这些惊人的数字背后，究竟藏着什么样的秘密？警方把他们一锅端了！\\r\\n今年4月，武汉警方获悉在塔子湖地区有电信网络诈骗活动，经过2个多月的秘密侦查，发现了一个特大网络诈骗犯罪团伙。\\r\\n原来该团伙利用非法互联网金融平台，实施推荐股票、炒期货等诈骗，其10处窝点散布在江岸、洪山、东湖高新、硚口、江汉等5个区的写字楼内，涉案人员多达800余名！\\r\\n6月9日上午，武汉警方组织了1000余名警力，分成14个抓捕组，同时对首脑分子和10处窝点实施了突击抓捕行动！\\r\\n目前，警方已依法刑事拘留411人，对45人取保候审。该案还在进一步调查中。\\r\\n他们是如何进行诈骗的？\\r\\n人数众多的这个诈骗组织是怎么样进行人员分工？又是如何一步步引受害人上钩的呢？\\r\\n2015年以来，该犯罪团伙以投资组建的某集团公司为总部，旗下成立多家分公司、子公司，设立人事部、财务部、行政部等机构部门，分为经理、分析师、业务小组长、业务员等组织层级。\\r\\n在网上发布招聘信息招揽、培训业务员\\r\\n依托虚构的互联网金融平台，通过业务员散布“有内幕消息”等虚假信息，引诱受害人加入专门的QQ群、微信群。\\r\\n再由所谓的“证券公司资深分析师”和“经理”逐个联系受害人，引诱受害人交易股票、期货、贵金属、外汇等金融产品，\\r\\n受害人若获利则按“五五”、“六四”分成，\\r\\n若亏损则拉入“黑名单”不再联系。\\r\\n网友热评\\r\\n李晓猫不吃鱼：在人信汇写字楼面试过一个这种工作，一听不对劲就撤了，说不适合我，我嘴巴笨\\r\\n习惯就好33xxzz：八百多人？可能相当部分人都不大清楚自己到底是啥性质工作吧？\\r\\n刑法守望者：\\r\\n要警惕了，普法：各种工作都要预防法律风险，要做个明白人，不是什么钱都可以拿，尤其是从事金融、保险、银行、财务的人员，不小心就触犯刑法……\\r\\n童颜永在--心理医生：盘在写字楼内的诈骗公司，以高薪招聘业务人员为诱饵，实行诈骗的顽疾，终于被揣掉了。\\r\\n你的渔船：联系一下自己的朋友，看有多少个被抓了\\r\\nThe-former-degrees：\\r\\n招聘平台和销售会上百分之八十就是这种工作。从源头抓起，防止更多人受伤。\\r\\n宇宇家的小仙女：恐怖 进了一个星期发现不太对劲 这尼玛是让我骗人啊 ?赶紧自己跑路了\\r\\nz_路漫漫：\\r\\n我做过， ?后来听说公司跑路了\\r\\n睡不饱怎么办啊小铭大：我都面试过这种工作，，还培训了几天，，话术一看就的套路骗，，果断闪人，，这种公司太多了，，\\r\\n遗忘的金叶子：碰到这样的骗子找我们做视频，最后被我打电话骂了一顿！\\r\\na一元复始c：\\r\\n还有那些天天电话骚扰别人信贷的、卖房的、卖邮票的、发票的社会生活中一不留神就会被坑，所以活着需要理智\\r\\n笑看世间丑2448337651：这是在路上发骗广告搞高利贷的那些互联网金融公司吗？\\r\\n未来温暖的时光属于自己：金融港，街道口都是这些……好多同学刚刚毕业都去做过，都是网上投简历，这些公司就猛联系你，其实好多都不知道这是骗人的吧\\r\\n有强迫症的天蝎座怪咖：吓到我了\\r\\n冉冉的彗星是个宝：早上还接到说做期货\\r\\n霖心金鱼And张蒙：\\r\\n都不敢去找工作了\\r\\n蒋妈妈1\\r\\n5：刚回到武汉，准备找份工作，看网上好多这种招聘的，感觉像骗人的，都不看的\\r\\n看了网友的评论，\\r\\n小编只有一个感觉：\\r\\n找工作时一定要擦亮双眼\\r\\n不要因为一时疏忽，\\r\\n而给自己的生活抹上污点！\\r\\n俗话说，知己知彼百战不殆\\r\\n弄清网络诈骗的常见手法?\\r\\n才能避免上当受骗\\r\\n下面就为大家奉上防骗攻略\\r\\n遇到诈骗只需见招拆招！\\r\\n网络防骗攻略\\r\\n电信网络诈骗犯罪往往表现为“六大陷阱”：\\r\\n1.物美价廉的网购陷阱\\r\\n2.推销产品的便利陷阱\\r\\n3.异性交友的情感陷阱\\r\\n4.中奖信息的惊喜陷阱\\r\\n5.冒充国家工作人员的恐吓陷阱\\r\\n6.钓鱼网站和网上银行的迷惑陷阱\\r\\n下面是网络诈骗中比较常见的几种类型，一起学习如何防范，让骗子无处遁形！\\r\\n1虚假红包诈骗\\r\\n临近节日时，各大电商平台会以派发红包的形式，为促销活动预热。有不法分子趁机在微信朋友圈、微信群等平台中，派发虚假红包，诱骗大家点击，套取个人信息，或传播木马病毒，盗取银行账号。\\r\\n识骗方法：慎点此类红包领取链接，如果不小心点击，应第一时间关闭手机网络，修改网银、支付宝等重要账户密码，并通过安全软件查杀木马病毒。\\r\\n2二维码诈骗\\r\\n抢购高峰期，网页打开慢，网银交易出现比较迟钝现象。有不法分子会冒充客服或店主，以单子出现“调单”“卡单”等说法为幌子，故意说没有收到款项欺诈消费者，取得信任后要求消费者以其他办法进行转账。\\r\\n识骗方法：消费者要注意，调单、卡单、激活订单等多为诈骗术语，见此类词语基本可以断定对方是骗子。没有收到款项这样的问题，是不会在东京、天猫这样的大型网络购物平台出现的。\\r\\n3钓鱼网站诈骗\\r\\n节假日期间，公众的购物热情高涨，假冒正规电商官方网站、在线支付平台等的钓鱼网站活动频繁。消费者在忙于浏览各色商品页面时，往往容易忽略链接的安全性，从而误入诈骗分子发来的虚假钓鱼网站。\\r\\n识骗方法：对陌生人发来的商品链接要提高警惕，谨慎打开。如遇网络诈骗应第一时间向属地公安机关报案，并向举报中心举报。\\r\\n4虚假客服诈骗\\r\\n抢购高峰期，网页打开慢，网银交易出现比较迟钝现象。有不法分子会冒充客服或店主，以单子出现“调单”“卡单”等说法为幌子，故意说没有收到款项欺诈消费者，取得信任后要求消费者以其他办法进行转账。\\r\\n识骗方法：消费者要注意，调单、卡单、激活订单等多为诈骗术语，见此类词语基本可以断定对方是骗子。没有收到款项这样的问题，是不会在东京、天猫这样的大型网络购物平台出现的。\\r\\n5预购诈骗\\r\\n还有不法分子会以“提前购”、“预售”为诱饵向用户发送木马链接。除了网购链接被植入木马、钓鱼网站，还有不法分子会在“预售”活动上做文章，骗取买家“定金”。\\r\\n识骗方法：慎点不明链接，有关购物短信也不要轻信，同时也请给手机装上杀毒软件，提供安全的上网环境。\\r\\n6中奖诈骗\\r\\n购物过后，很多人会陆陆续续收到一些商家的中奖信息，切记不要随意拨打中奖信息提供的电话号码或点击发来的网站链接地址，很可能会让手机或电脑感染上木马病毒。\\r\\n识骗方法：收到中奖信息后留心一下，看一看你所购买的产品中有没有这家的产品，然后最好能在天猫店里直接和卖家联系确认消息。\\r\\n7朋友圈诈骗\\r\\n由于缺少第三方监管平台，不法分子会在朋友圈发布虚假低价购物信息，骗取消费者汇款购买。\\r\\n识骗方法：朋友圈里的销售行为，存在取证难，查处难的问题。因此建议大家在朋友圈买东西时，尽可能选择正规第三方支付平台进行支付，避免直接支付，以确保安全。\\r\\n8快递诈骗\\r\\n不法分子会从非法渠道获得客户信息，制作假的快递单，随后冒充快递员提前联系受骗者，把虚假货品送到消费者手中，骗取钱财。\\r\\n识骗方法：签收包裹前，务必按官方的信息核实对方身份，并确认是否是自己的包裹。在取货之后；一定记得把自己的个人信息从包裹上完全抹去；避免个人信息泄露。\\r\\n9退款诈骗\\r\\n不法分子常以“退款”或“退货”为由假扮网店客服，要求消费者点击其提供的“钓鱼网站”链接，盗取持卡人的银行密码及动态验证码。\\r\\n识骗方法：如果接到网上购物退款的电话或短信等信息，一定要谨慎对待，切莫泄露银行卡账号、户名，动态验证码等个人信息。\\r\\n同时，提醒大家：保护好自己账户信息，遇到情况一定及时报警。\\r\\n武汉破特大网络诈骗案抓808人:以\"内幕消息\"骗人\\r\\n6月12日，武汉市公安局向澎湃新闻通报，该局破获一起特大网络诈骗案。抓获包括卢某、熊某等8名首脑分子在内的涉案人员808名，查扣涉案电脑800余台、手机2000余部、银行卡3000余张。据悉，这是全国打击利用非法互联网金融平台实施诈骗犯罪中，查获涉案人数最多的一起案件。\\r\\n'"
      ]
     },
     "execution_count": 99,
     "metadata": {},
     "output_type": "execute_result"
    }
   ],
   "source": [
    "main_content['content'].iloc[8]"
   ]
  },
  {
   "cell_type": "code",
   "execution_count": 100,
   "metadata": {},
   "outputs": [
    {
     "name": "stderr",
     "output_type": "stream",
     "text": [
      "C:\\Users\\heyangm\\Anaconda3\\lib\\site-packages\\ipykernel_launcher.py:5: DeprecationWarning: Call to deprecated `wv` (Attribute will be removed in 4.0.0, use self instead).\n",
      "  \"\"\"\n",
      "C:\\Users\\heyangm\\Anaconda3\\lib\\site-packages\\ipykernel_launcher.py:12: DeprecationWarning: Call to deprecated `wv` (Attribute will be removed in 4.0.0, use self instead).\n",
      "  if sys.path[0] == '':\n"
     ]
    },
    {
     "data": {
      "text/plain": [
       "'当时微博和朋友圈上都传疯了，现场手铐都不够用！结果经记者深入调查后发现，错，还有让你更震惊的！！据武汉市公安局通报：抓获了808名嫌疑人！而且令人大跌眼镜的是，他们当中大多都是年青人，用“俊男靓女”来形容也不为过！网友热评刑法守望者：宇宇家的小仙女：恐怖进了一个星期发现不太对劲?赶紧自己跑路了z_路漫漫：我做过，?后来听说公司跑路了a一元复始c：有强迫症的天蝎座怪咖：吓到我了冉冉的彗星是个宝：早上还接到说做期货霖心金鱼And张蒙：都不敢去找工作了蒋妈妈1看了网友的评论，小编只有一个感觉：找工作时一定要擦亮双眼不要因为一时疏忽，而给自己的生活抹上污点！俗话说，知己知彼百战不殆网络防骗攻略5预购诈骗6中奖诈骗'"
      ]
     },
     "execution_count": 100,
     "metadata": {},
     "output_type": "execute_result"
    }
   ],
   "source": [
    "''.join(get_summarization_by_sen_emb(main_content['content'].iloc[8]))"
   ]
  },
  {
   "cell_type": "code",
   "execution_count": 101,
   "metadata": {},
   "outputs": [
    {
     "name": "stderr",
     "output_type": "stream",
     "text": [
      "C:\\Users\\heyangm\\Anaconda3\\lib\\site-packages\\ipykernel_launcher.py:5: DeprecationWarning: Call to deprecated `wv` (Attribute will be removed in 4.0.0, use self instead).\n",
      "  \"\"\"\n",
      "C:\\Users\\heyangm\\Anaconda3\\lib\\site-packages\\ipykernel_launcher.py:12: DeprecationWarning: Call to deprecated `wv` (Attribute will be removed in 4.0.0, use self instead).\n",
      "  if sys.path[0] == '':\n",
      "C:\\Users\\heyangm\\Anaconda3\\lib\\site-packages\\ipykernel_launcher.py:14: RuntimeWarning: invalid value encountered in true_divide\n",
      "  \n"
     ]
    },
    {
     "data": {
      "text/plain": [
       "[('3', 0.662529855966568),\n",
       " ('FS8016', nan),\n",
       " ('GeekBench', nan),\n",
       " ('4GB', nan),\n",
       " ('14', 0.6785918176174164),\n",
       " ('Kryo', nan),\n",
       " ('核心设计，集成', 0.442205011844635),\n",
       " ('Adreno', nan),\n",
       " ('512', 0.35424256324768066),\n",
       " ('GPU', nan),\n",
       " ('X12', nan),\n",
       " ('LTE', nan),\n",
       " ('OPPO', nan),\n",
       " ('EDGEST', nan),\n",
       " ('302SH', nan),\n",
       " ('5', 0.7027278244495392),\n",
       " ('28', 0.6974339187145233),\n",
       " ('和', 0.6537487804889679),\n",
       " ('在', 0.6141084730625153),\n",
       " ('R11。骁龙', 0.5825803875923157),\n",
       " ('260', 0.503925234079361),\n",
       " ('的内存。骁龙', 0.4773767590522766),\n",
       " ('纳米工艺，八个', 0.4714673161506653),\n",
       " ('660', 0.4398358464241028),\n",
       " ('年退出中国市场，但是今年', 0.43910861015319824),\n",
       " ('820', 0.43433916568756104),\n",
       " ('近日，一款型号为', 0.4141673445701599),\n",
       " ('处理器，配备有', 0.32164937257766724),\n",
       " ('2013', 0.31936776638031006),\n",
       " ('月份的媒体沟通会上，惠普罗忠生表示：“我敢打赌，12', 0.3024349808692932),\n",
       " ('与高通签署了排他性协议，可以独占两三个月时间。', 0.28841453790664673),\n",
       " ('调制解调器。', 0.28779780864715576),\n",
       " ('当前市面上只有一款机子采用了骁龙', 0.25583094358444214),\n",
       " ('款的全面屏手机。', 0.2547796964645386),\n",
       " ('年推出全球首款全面屏手机', 0.2358407974243164),\n",
       " ('个月之后，在座的各位手机都会换掉。因为全面屏时代的到来，我们怀揣的手机都将成为传统手机。”', 0.22309893369674683),\n",
       " ('至今，夏普手机推出了多达', 0.21307605504989624),\n",
       " ('是高通今年最受瞩目的芯片之一，采用', 0.20671361684799194),\n",
       " ('处理器，那就是已经上市销售的', 0.20279860496520996),\n",
       " ('的夏普神秘新机悄然出现在', 0.1962016224861145),\n",
       " ('尽管并非旗舰芯片，但在多核新能上比去年骁龙', 0.18018651008605957),\n",
       " ('虽然至今夏普智能手机在市场上无法排得上号，已经完全没落，并于', 0.16584104299545288),\n",
       " ('强，单核改进也很明显，所以放在今年仍可以让很多手机变成高端机。不过，由于', 0.16041356325149536),\n",
       " ('月份官方突然宣布回归中国，预示着很快就有夏普新机在中国登场了。那么，第一款夏普手机什么时候登陆中国呢？又会是怎么样的手机呢？',\n",
       "  0.1186632513999939),\n",
       " ('考虑到夏普既然开始测试新机了，说明只要等独占时期一过，夏普就能发布骁龙', 0.11832529306411743),\n",
       " ('的跑分库上。从其中相关信息了解到，这款机子并非旗舰定位，所搭载的是高通骁龙', 0.11192053556442261),\n",
       " ('新品了。按照之前被曝光的渲染图了解，夏普的新机核心竞争优势还是全面屏，因为从', 0.09533506631851196)]"
      ]
     },
     "execution_count": 101,
     "metadata": {},
     "output_type": "execute_result"
    }
   ],
   "source": [
    "get_corr(main_content['content'].iloc[6])"
   ]
  }
 ],
 "metadata": {
  "kernelspec": {
   "display_name": "Python 3",
   "language": "python",
   "name": "python3"
  },
  "language_info": {
   "codemirror_mode": {
    "name": "ipython",
    "version": 3
   },
   "file_extension": ".py",
   "mimetype": "text/x-python",
   "name": "python",
   "nbconvert_exporter": "python",
   "pygments_lexer": "ipython3",
   "version": "3.7.3"
  }
 },
 "nbformat": 4,
 "nbformat_minor": 2
}
